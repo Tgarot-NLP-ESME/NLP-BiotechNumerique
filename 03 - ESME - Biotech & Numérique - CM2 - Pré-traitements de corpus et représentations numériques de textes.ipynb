{
 "cells": [
  {
   "cell_type": "markdown",
   "metadata": {},
   "source": [
    "***\n",
    "***\n",
    "\n",
    "<h2><center><font color='blue'>Cours n°2</font></center> </h2>\n",
    "\n",
    "<h2><center>Pré-traitements de corpus et représentations numériques de textes</center> </h2>\n",
    "\n",
    "***\n",
    "***"
   ]
  },
  {
   "cell_type": "markdown",
   "metadata": {},
   "source": [
    "***\n",
    "# <font color='blue'> 1. Pré-traitements </font>\n",
    "***"
   ]
  },
  {
   "cell_type": "code",
   "execution_count": null,
   "metadata": {},
   "outputs": [],
   "source": [
    "# Importation de textes pour les exemples\n",
    "\n",
    "import pandas as pd\n",
    "import io\n",
    "import glob\n",
    "\n",
    "liste_dossiers = glob.glob(\"C:/Users/thoma/Documents/CHU Toulouse/anonyme/*.txt\")\n",
    "liste_dossiers"
   ]
  },
  {
   "cell_type": "code",
   "execution_count": null,
   "metadata": {},
   "outputs": [],
   "source": [
    "med_dos = []\n",
    "for dossier in liste_dossiers:\n",
    "    with io.open(dossier, 'r', encoding='utf8') as f:\n",
    "        text = f.read()\n",
    "        med_dos.append(text)\n",
    "\n",
    "med_dos = pd.DataFrame(med_dos)\n",
    "med_dos.columns = ['dossier']\n",
    "med_dos"
   ]
  },
  {
   "cell_type": "code",
   "execution_count": null,
   "metadata": {},
   "outputs": [],
   "source": [
    "med_dos['dossier'].loc[0]"
   ]
  },
  {
   "cell_type": "code",
   "execution_count": null,
   "metadata": {},
   "outputs": [],
   "source": [
    "print(med_dos['dossier'].loc[0])"
   ]
  },
  {
   "cell_type": "markdown",
   "metadata": {},
   "source": [
    "## 1.1. Nettoyage et uniformisation"
   ]
  },
  {
   "cell_type": "markdown",
   "metadata": {},
   "source": [
    "Etapes classiques de nettoyage de textes : <br>\n",
    "\n",
    "* mise en minuscule du texte\n",
    "* suppression de la ponctuation\n",
    "* suppression des chiffres\n",
    "* suppression des espaces sur-numéraires\n",
    "* passage en unicode\n",
    "* enlever les lettres seules"
   ]
  },
  {
   "cell_type": "code",
   "execution_count": null,
   "metadata": {},
   "outputs": [],
   "source": [
    "from gensim import utils\n",
    "import gensim.parsing.preprocessing as gsp\n",
    "import unidecode\n",
    "\n",
    "filters = [ \n",
    "           gsp.strip_punctuation,\n",
    "           gsp.strip_numeric, \n",
    "           gsp.strip_multiple_whitespaces,\n",
    "          ]\n",
    "\n",
    "def clean_text(s):\n",
    "    s = s.lower()\n",
    "    s = utils.to_unicode(s)\n",
    "    # s = unidecode.unidecode(s)\n",
    "    for f in filters:\n",
    "        s = f(s).strip()\n",
    "    s = ' '.join( [w for w in s.split() if len(w)>1] )\n",
    "    return s\n",
    "\n",
    "med_dos['dossier_clean'] = med_dos['dossier'].apply(lambda x : clean_text(x))"
   ]
  },
  {
   "cell_type": "code",
   "execution_count": null,
   "metadata": {},
   "outputs": [],
   "source": [
    "med_dos['dossier_clean'].loc[0]"
   ]
  },
  {
   "cell_type": "markdown",
   "metadata": {},
   "source": [
    "***"
   ]
  },
  {
   "cell_type": "markdown",
   "metadata": {},
   "source": [
    "## 1.2. \"Stop-words\""
   ]
  },
  {
   "cell_type": "markdown",
   "metadata": {},
   "source": [
    "Dans certaines approches, certains mots peuvent n'avoir aucune \"valeur\" et introduire du biais par leur trop grande fréquance dans le corpus (loi de Zipf), il peut donc être intéressant de les supprimer"
   ]
  },
  {
   "cell_type": "code",
   "execution_count": null,
   "metadata": {},
   "outputs": [],
   "source": [
    "import spacy\n",
    "from spacy.lang.fr import French\n",
    "\n",
    "nlp = French()\n",
    "\n",
    "print(sorted(nlp.Defaults.stop_words))"
   ]
  },
  {
   "cell_type": "code",
   "execution_count": null,
   "metadata": {},
   "outputs": [],
   "source": [
    "# Ajouter un stop-words\n",
    "nlp.Defaults.stop_words.add(\"chaton\")\n",
    "\n",
    "# Ajouter des stop-words\n",
    "nlp.Defaults.stop_words |= {\"chat\",\"chien\",}\n",
    "\n",
    "# Supprimer un stop-words\n",
    "nlp.Defaults.stop_words.remove(\"été\")\n",
    "\n",
    "# Supprimer des stop-words\n",
    "nlp.Defaults.stop_words -= {\"être\", \"ô\"}"
   ]
  },
  {
   "cell_type": "code",
   "execution_count": null,
   "metadata": {},
   "outputs": [],
   "source": [
    "print(sorted(nlp.Defaults.stop_words))"
   ]
  },
  {
   "cell_type": "code",
   "execution_count": null,
   "metadata": {},
   "outputs": [],
   "source": [
    "import numpy as np\n",
    "\n",
    "med_dos['dossier_clean_stopword'] = np.nan\n",
    "\n",
    "for num in list(med_dos.index):\n",
    "    text = med_dos.dossier_clean.loc[num]\n",
    "    doc = nlp(text)\n",
    "    filtered_sent=[]\n",
    "    for word in doc:\n",
    "        if word.is_stop==False:\n",
    "            filtered_sent.append(word)\n",
    "    clean_sent = ' '.join(str(v) for v in filtered_sent)\n",
    "    med_dos.loc[num, 'dossier_clean_stopword'] = clean_sent"
   ]
  },
  {
   "cell_type": "code",
   "execution_count": null,
   "metadata": {},
   "outputs": [],
   "source": [
    "med_dos"
   ]
  },
  {
   "cell_type": "code",
   "execution_count": null,
   "metadata": {},
   "outputs": [],
   "source": [
    "med_dos['dossier_clean_stopword'].loc[0]"
   ]
  },
  {
   "cell_type": "markdown",
   "metadata": {},
   "source": [
    "***"
   ]
  },
  {
   "cell_type": "markdown",
   "metadata": {},
   "source": [
    "## 1.3. Stemming & Lemmatization"
   ]
  },
  {
   "cell_type": "markdown",
   "metadata": {},
   "source": [
    "Le but de la radicalisation (stemming) et de la lemmatisation est de réduire les formes flexionnelles et parfois les formes dérivées d'un mot à une forme de base commune."
   ]
  },
  {
   "cell_type": "markdown",
   "metadata": {},
   "source": [
    "- Radicalisation"
   ]
  },
  {
   "cell_type": "code",
   "execution_count": null,
   "metadata": {},
   "outputs": [],
   "source": [
    "from nltk.stem.snowball import FrenchStemmer\n",
    "\n",
    "stemmer = FrenchStemmer()\n",
    "\n",
    "for item in [\"Biologie\", \"Biologique\", \"Biologiquement\"]:\n",
    "    print(item, ' >>> ', stemmer.stem(item))\n"
   ]
  },
  {
   "cell_type": "code",
   "execution_count": null,
   "metadata": {},
   "outputs": [],
   "source": [
    "for item in [\"changer\", \"changera\", \"changaient\"]:\n",
    "    print(item, ' >>> ', stemmer.stem(item))"
   ]
  },
  {
   "cell_type": "code",
   "execution_count": null,
   "metadata": {},
   "outputs": [],
   "source": [
    "med_dos['dossier_clean_stopword_stemm'] = np.nan\n",
    "\n",
    "for num in list(med_dos.index):\n",
    "    text = med_dos.dossier_clean_stopword.loc[num]\n",
    "    doc = nlp(text)\n",
    "    filtered_sent=[]\n",
    "    for word in doc:\n",
    "        filtered_sent.append(stemmer.stem(str(word)))\n",
    "    clean_sent = ' '.join(str(v) for v in filtered_sent)\n",
    "    med_dos.loc[num, 'dossier_clean_stopword_stemm'] = clean_sent"
   ]
  },
  {
   "cell_type": "code",
   "execution_count": null,
   "metadata": {},
   "outputs": [],
   "source": [
    "med_dos"
   ]
  },
  {
   "cell_type": "code",
   "execution_count": null,
   "metadata": {},
   "outputs": [],
   "source": [
    "med_dos['dossier_clean_stopword_stemm'].loc[0]"
   ]
  },
  {
   "cell_type": "markdown",
   "metadata": {},
   "source": [
    "- Lemmatisation"
   ]
  },
  {
   "cell_type": "code",
   "execution_count": null,
   "metadata": {},
   "outputs": [],
   "source": [
    "import spacy\n",
    "\n",
    "nlp = spacy.load('fr_core_news_md')\n",
    "doc = nlp(u\"changer changera changeaient\")\n",
    "\n",
    "for token in doc:\n",
    "    print(token , ' >>> ' , token.lemma_)"
   ]
  },
  {
   "cell_type": "code",
   "execution_count": null,
   "metadata": {},
   "outputs": [],
   "source": [
    "import spacy\n",
    "\n",
    "nlp = spacy.load('fr_core_news_md')\n",
    "doc = nlp(u\"Le fond des yeux présentait une structure granuleuse\")\n",
    "\n",
    "filtered_sent=[]\n",
    "for word in doc:\n",
    "    filtered_sent.append(word.lemma_)\n",
    "clean_sent = ' '.join(str(v) for v in filtered_sent)\n",
    "\n",
    "print(clean_sent)"
   ]
  },
  {
   "cell_type": "code",
   "execution_count": null,
   "metadata": {},
   "outputs": [],
   "source": [
    "med_dos['dossier_clean_stopword_lemm'] = np.nan\n",
    "\n",
    "for num in list(med_dos.index):\n",
    "    text = med_dos.dossier_clean_stopword.loc[num]\n",
    "    doc = nlp(text)\n",
    "    filtered_sent=[]\n",
    "    for word in doc:\n",
    "        filtered_sent.append(word.lemma_)\n",
    "    clean_sent = ' '.join(str(v) for v in filtered_sent)\n",
    "    med_dos.loc[num, 'dossier_clean_stopword_lemm'] = clean_sent"
   ]
  },
  {
   "cell_type": "code",
   "execution_count": null,
   "metadata": {},
   "outputs": [],
   "source": [
    "med_dos"
   ]
  },
  {
   "cell_type": "code",
   "execution_count": null,
   "metadata": {},
   "outputs": [],
   "source": [
    "med_dos['dossier_clean_stopword_lemm'].loc[0]"
   ]
  },
  {
   "cell_type": "markdown",
   "metadata": {},
   "source": [
    "## 1.4. Segmentation & Tokenisation"
   ]
  },
  {
   "cell_type": "markdown",
   "metadata": {},
   "source": [
    "<b>Définition</b> : La segmentation de texte est le processus de fractionnement de texte en unités d'intérêt\n",
    "\n",
    "Deux niveaux de segmentation (généralement) requis:\n",
    "\n",
    "- Diviser le texte brut en unités de modélisation (ex : phrase, paragraphe, sections, chapitres,...)\n",
    "<br>\n",
    "\n",
    "- Divisez les unités de modélisation en une séquence d'unités de base, appelées « <b>tokens</b> » (par exemple: mots, morceaux de mots, caractères,...)\n",
    "<br>\n",
    "\n",
    "La <b>tokenisation</b> est un terme large (vague) qui fait simplement référence au processus de diviser le texte brut en séquences de tokens (segmentation de mots, à la segmentation des mots, fractionnement des caractères...).\n",
    "<br>\n",
    "\n",
    "NB: Dans son sens le plus courant, la tokenisation fait référence à la segmentation de mots."
   ]
  },
  {
   "cell_type": "code",
   "execution_count": null,
   "metadata": {},
   "outputs": [],
   "source": [
    "# Segmentation par paragraphe\n",
    "med_dos['dossier'].loc[0].split('\\n')"
   ]
  },
  {
   "cell_type": "code",
   "execution_count": null,
   "metadata": {},
   "outputs": [],
   "source": [
    "# Segmentation par mots\n",
    "from nltk.tokenize import word_tokenize\n",
    "text_tokens = [[text for text in word_tokenize(doc)] for doc in med_dos['dossier_clean_stopword_lemm']]\n",
    "text_tokens"
   ]
  },
  {
   "cell_type": "code",
   "execution_count": null,
   "metadata": {},
   "outputs": [],
   "source": [
    "# Segmentation par mots\n",
    "from nltk.tokenize import word_tokenize\n",
    "text_tokens = [[text for text in word_tokenize(doc)] for doc in med_dos['dossier_clean_stopword_stemm']]\n",
    "text_tokens"
   ]
  },
  {
   "cell_type": "markdown",
   "metadata": {},
   "source": [
    "***\n",
    "# <font color='blue'> 2. Représentation numérique de données textuelles </font>\n",
    "***"
   ]
  },
  {
   "cell_type": "markdown",
   "metadata": {},
   "source": [
    "Il faut représenter les données textuelles sous forme numérique. \n",
    "En effet, Pour appliquer des algorithmes d’IA sur des données textuelles, il est nécessaire de transformer le texte en nombres, seul « input » compréhensible par les algorithmes de Machine/Deep Learning. "
   ]
  },
  {
   "cell_type": "markdown",
   "metadata": {},
   "source": [
    "Pour la suite :\n",
    "    \n",
    "- Un mot est l’unité de base (Token) des données discrètes, définie comme un élément d'un vocabulaire V indexé de 1 à n.\n",
    "<br>\n",
    "\n",
    "- Un document est une suite de N mots désignés par: d = (m1, m2, ..., mN), où mN est le n-ième mot de la séquence\n",
    "<br>\n",
    "\n",
    "- Un corpus est une collection de documents C notée par : C = d1, d2, ..., dM\n",
    "<br>\n",
    "\n",
    "Étant donné un vocabulaire V et un corpus D, notre objectif est d'associer chaque mot avec une structure de données numérique afin de pouvoir :\n",
    "\n",
    "- identifier chaque mot\n",
    "<br>\n",
    "\n",
    "- capturer les similitudes des mots (en fonction de la morphologie, de la syntaxe, de la sémantique,...)\n",
    "\n",
    "On parle de <b>Word Embeddings / Word Vectorization</b>\n"
   ]
  },
  {
   "cell_type": "markdown",
   "metadata": {},
   "source": [
    "***"
   ]
  },
  {
   "cell_type": "markdown",
   "metadata": {},
   "source": [
    "## 2.1. Approche \"1-hot encoding\""
   ]
  },
  {
   "cell_type": "markdown",
   "metadata": {},
   "source": [
    "L'encodage \"one-hot\" ou \"encodage 1 parmi n\" est une représentation de variables catégorielles sous forme de vecteurs binaires.\n",
    "\n",
    "Cela nécessite d'abord que les valeurs catégorielles soient mappées sur des valeurs entières.\n",
    "\n",
    "Ensuite, chaque valeur entière est représentée sous la forme d'un vecteur binaire qui contient toutes des valeurs nulles, à l'exception de l'indice de l'entier, qui est marqué d'un 1.\n",
    "\n",
    "Exemple : "
   ]
  },
  {
   "cell_type": "markdown",
   "metadata": {},
   "source": [
    "- C = {\"Chat\" : 1, \"Chien\" : 2, \"Pomme\" : 3, \"Poire\" : 4, \"Voiture\" : 5}"
   ]
  },
  {
   "cell_type": "markdown",
   "metadata": {},
   "source": [
    "- C_1-hot_encoding  = {\"Chat\"    : [10000], \"Chien\"   : [01000], \"Pomme\"   : [00100], \"Poire\"   : [00010], \"Voiture\" : [00001]}"
   ]
  },
  {
   "cell_type": "code",
   "execution_count": null,
   "metadata": {},
   "outputs": [],
   "source": [
    "import numpy as np\n",
    "docs = \"la cellule Eucaryote possède un noyau\".lower().split()\n",
    "doc1 = set(docs)\n",
    "doc1 = sorted(doc1)\n",
    "print (\"\\nvalues: \", doc1)\n",
    "\n",
    "integer_encoded = []\n",
    "for i in docs:\n",
    "    v = np.where( np.array(doc1) == i)[0][0]\n",
    "    integer_encoded.append(v)\n",
    "print (\"\\ninteger encoded: \",integer_encoded)\n",
    "\n",
    "def get_vec(len_doc,word):\n",
    "    empty_vector = [0] * len_doc\n",
    "    vect = 0\n",
    "    find = np.where( np.array(doc1) == word)[0][0]\n",
    "    empty_vector[find] = 1\n",
    "    return empty_vector\n",
    "\n",
    "def get_matrix(doc1):\n",
    "    mat = []\n",
    "    len_doc = len(doc1)\n",
    "    for i in docs:\n",
    "        vec = get_vec(len_doc,i)\n",
    "        mat.append(vec)\n",
    "        \n",
    "    return np.asarray(mat)\n",
    "\n",
    "print (\"\\nMATRIX:\")\n",
    "print (get_matrix(doc1))"
   ]
  },
  {
   "cell_type": "code",
   "execution_count": null,
   "metadata": {},
   "outputs": [],
   "source": [
    "from numpy import array\n",
    "from numpy import argmax\n",
    "from sklearn.preprocessing import LabelEncoder\n",
    "from sklearn.preprocessing import OneHotEncoder\n",
    "\n",
    "doc1 = \"la cellule procaryote ne possède pas de noyau\".lower().split()\n",
    "doc2 = \"la cellule Eucaryote possède un noyau\".lower().split()\n",
    "doc1_array = array(doc1)\n",
    "doc2_array = array(doc2)\n",
    "doc3 = doc1+doc2\n",
    "doc3 = set(doc3)\n",
    "data = list(doc3)\n",
    "\n",
    "values = array(data)\n",
    "print(values)\n",
    "# integer encode\n",
    "label_encoder = LabelEncoder()\n",
    "integer_encoded = label_encoder.fit_transform(values)\n",
    "print(integer_encoded)\n",
    "\n",
    "# binary encode\n",
    "onehot_encoder = OneHotEncoder(sparse=False)\n",
    "integer_encoded = integer_encoded.reshape(len(integer_encoded), 1)\n",
    "onehot_encoded = onehot_encoder.fit_transform(integer_encoded)\n",
    "print(onehot_encoded)\n",
    "\n",
    "# invert first example\n",
    "# inverted = label_encoder.inverse_transform([argmax(onehot_encoded[0, :])])\n",
    "# print(inverted)"
   ]
  },
  {
   "cell_type": "markdown",
   "metadata": {},
   "source": [
    "Cette approche possède 2 limites majeures :\n",
    "<br>\n",
    "\n",
    "- Elle n'est pas très informative car il considère tous les mots également équidistants (eucaryote et procarypte sont considérées comme des entitées totalement différentes !)\n",
    "\n",
    "                ||Procaryote - Eucaryote|| = ||Eucaryote - possèder|| = ||Procaryote - pas||\n",
    "\n",
    "- Elle ne retranscrit pas la Polysémie : la souris d'un ordinateur obtient le même vecteur que la souris (animal)\n",
    "\n"
   ]
  },
  {
   "cell_type": "markdown",
   "metadata": {},
   "source": [
    "***"
   ]
  },
  {
   "cell_type": "markdown",
   "metadata": {},
   "source": [
    "## 2.2. Approche \"Count Vector\" aka \"Bag-of-Words / Bag-Of-Ngram\""
   ]
  },
  {
   "cell_type": "markdown",
   "metadata": {},
   "source": [
    "Dans cette approche, un document est représenté par un vecteur de la même taille que le vocabulaire, dont la composante i indique le nombre d'occurrences du ième mot du vocabulaire dans le document. Le vocabulaire est construit à partir de l’ensemble des mots et des n-gram (combinaisons de n mots qui se suivent, en général 2 ou 3) du corpus de documents. La constitution du vocabulaire est ainsi une étape critique pour les performances des systèmes utilisant une telle représentation."
   ]
  },
  {
   "cell_type": "markdown",
   "metadata": {},
   "source": [
    "Reprenons le Corpus de documents C = {d1, d2, ..., dM} qui contient N tokens (mots) uniques d'un dictionnaire. \n",
    "\n",
    "On construit une matrice M en 2D :\n",
    "- le nombre de documents de C représente l'axe Y \n",
    "- Le nombre de tokens uniques N représente l'axe X \n",
    "\n",
    "Chaque ligne de la matrice M contient le nombre des tokens dans le document d(i) et la somme de chaque colonne donne le nombre d'occurence du token dans le Corpus \n",
    "\n",
    "Exemple :\n",
    "\n",
    "doc1 = \"la cellule Procaryote ne possède pas de noyau\"\n",
    "<br>\n",
    "doc2 = \"la cellule Eucaryote possède un noyau\"\n",
    "\n",
    "C = {doc1, doc2}\n",
    "\n",
    "N = {\"la\", \"cellule\", \"Procaryote\", \"Eucaryote\", \"ne\", \"possède\", \"pas\", \"un\", \"de\", \"noyau\"}\n",
    "\n",
    "Ici, C = 2, N = 10\n",
    "\n",
    "\n"
   ]
  },
  {
   "cell_type": "code",
   "execution_count": null,
   "metadata": {},
   "outputs": [],
   "source": [
    "from sklearn.feature_extraction.text import CountVectorizer\n",
    "\n",
    "corpus = [\"la cellule Procaryote ne possède pas de noyau\",\n",
    "          \"la cellule Eucaryote possède un noyau\"]\n",
    "\n",
    "vectorizer = CountVectorizer()\n",
    "X = vectorizer.fit_transform(corpus)\n",
    "\n",
    "print(vectorizer.get_feature_names())"
   ]
  },
  {
   "cell_type": "code",
   "execution_count": null,
   "metadata": {},
   "outputs": [],
   "source": [
    "print(X.toarray())"
   ]
  },
  {
   "attachments": {
    "count-vector.webp": {
     "image/webp": "[encoded data removed]"
    }
   },
   "cell_type": "markdown",
   "metadata": {},
   "source": [
    "![count-vector.webp](attachment:count-vector.webp)"
   ]
  },
  {
   "cell_type": "markdown",
   "metadata": {},
   "source": [
    "On peut également faire des \"N-grams\":"
   ]
  },
  {
   "cell_type": "code",
   "execution_count": null,
   "metadata": {},
   "outputs": [],
   "source": [
    "# Bi-grams\n",
    "vectorizer2 = CountVectorizer(analyzer='word', ngram_range=(2, 2))\n",
    "X2 = vectorizer2.fit_transform(corpus)\n",
    "print(vectorizer2.get_feature_names())\n",
    "print(X2.toarray())"
   ]
  },
  {
   "cell_type": "code",
   "execution_count": null,
   "metadata": {},
   "outputs": [],
   "source": [
    "# Tri-grams\n",
    "vectorizer3 = CountVectorizer(analyzer='word', ngram_range=(3, 3))\n",
    "X3 = vectorizer3.fit_transform(corpus)\n",
    "print(vectorizer3.get_feature_names())\n",
    "print(X3.toarray())"
   ]
  },
  {
   "cell_type": "markdown",
   "metadata": {},
   "source": [
    "Cette approche possède 2 limites majeures :\n",
    "<br>\n",
    "\n",
    "- La matrice peut rapidement devenir très TRES grande selon la taille du corpus et la longueur des documents surtout en augmentant la taille des n-grams pour \"capter\" la strucutre grammaticale\n",
    "<br>\n",
    "\n",
    "- ne permet pas de représenter la fréquence des mots / n-grams (= importance relative)\n"
   ]
  },
  {
   "cell_type": "markdown",
   "metadata": {},
   "source": [
    "***"
   ]
  },
  {
   "cell_type": "markdown",
   "metadata": {},
   "source": [
    "## 2.3. Approche \"TF-IDF\" "
   ]
  },
  {
   "attachments": {
    "1%20FgQgJYozG7colT9rys066w.png": {
     "image/png": "[encoded data removed]"
    }
   },
   "cell_type": "markdown",
   "metadata": {},
   "source": [
    "![1%20FgQgJYozG7colT9rys066w.png](attachment:1%20FgQgJYozG7colT9rys066w.png)"
   ]
  },
  {
   "cell_type": "markdown",
   "metadata": {},
   "source": [
    "Il s’agit d’une méthode de pondération du modèle vectoriel Bag-of-Words qui permet de mesurer l'importance d'un terme contenu dans un document relativement à une collection ou un corpus de documents. Le poids du terme augmente proportionnellement au nombre d'occurrences du mot dans le document et diminue en fonction du nombre d'occurrences du mot dans le corpus."
   ]
  },
  {
   "cell_type": "markdown",
   "metadata": {},
   "source": [
    "Les mots courants tels que «est», «le», «un», etc. ont tendance à apparaître assez fréquemment par rapport aux mots qui sont importants pour un document (Loi de Zipf). Par exemple, un document A qui parle de biologie cellulaire va contenir plus d'occurrences du mot « Cellule » par rapport à d'autres documents. Mais des mots courants comme «le», etc. seront également présents à une fréquence plus élevée dans presque tous les documents.\n",
    "\n",
    "TF-IDF permet de réduire le poids des mots courants présents dans presque tous les documents d'un corpus et donner plus d'importance aux mots qui apparaissent dans un sous-ensemble de documents.\n",
    "\n",
    "TF-IDF fonctionne en pénalisant ces mots communs en leur attribuant des poids plus faibles tout en donnant de l'importance à des mots comme « Cellule » dans un document particulier."
   ]
  },
  {
   "cell_type": "markdown",
   "metadata": {},
   "source": [
    "***\n",
    "## Exemple :\n",
    "\n",
    "T1 = \"la cellule Procaryote ne possède pas de noyau et possède des mitochondries\"\n",
    "\n",
    "T2 = \"la cellule Eucaryote possède un noyau et des mitochondries\"\n",
    "\n",
    "Ici,\n",
    "- Vocabulaire : ‘la’, ‘cellule’, ‘Procaryote’, ‘Eucaryote’, ‘ne’, ‘possède’, ‘un’, ‘pas’, ‘de’,  ‘noyau’, ‘et’, ‘des’, ‘mitochondries’\n",
    "- Taille du corpus = 2\n",
    "- Taille du vocabulaire = 13\n",
    "- Nombre de mots distincts dans T1 = 11\n",
    "- Nombre de mots distincts dans T2 = 9"
   ]
  },
  {
   "cell_type": "markdown",
   "metadata": {},
   "source": [
    "### Term Frequency (TF)"
   ]
  },
  {
   "cell_type": "markdown",
   "metadata": {},
   "source": [
    "TF(mot, texte) = Nb. de fois où le mot apparait dans le texte / nombre de mots distincts dans le texte > Donc on calcule un TF par mot et par texte"
   ]
  },
  {
   "cell_type": "markdown",
   "metadata": {},
   "source": [
    "Pour T1:\n",
    "\n",
    "    TF(‘la’) = 1/11 = 0.09\n",
    "    TF(‘cellule’) = 1/11 = 0.09\n",
    "    TF(‘Procaryote’) = 1/11 = 0.09\n",
    "    TF(‘Eucaryote’) = 0/11 = 0\n",
    "    TF(‘ne’) = 1/11 = 0.09\n",
    "    TF(‘possède’) = 2/11 = 0.18\n",
    "    TF(‘un’) = 0/11 = 0\n",
    "    TF(‘pas’) = 1/11 = 0.09\n",
    "    TF(‘de’) = 1/11 = 0.09\n",
    "    TF(‘noyau’) = 1/11 = 0.09\n",
    "    TF(‘et’) = 1/11 = 0.09\n",
    "    TF(‘des’) = 1/11 = 0\n",
    "    TF(‘mitochondries’) = 1/11 = 0.09\n",
    "    \n",
    "Pour T2:\n",
    "\n",
    "    TF(‘la’) = 1/9 = 0.11\n",
    "    TF(‘cellule’) = 1/9 = 0.11\n",
    "    TF(‘Procaryote’) = 0/9 = 0\n",
    "    TF(‘Eucaryote’) = 1/9 = 0.11\n",
    "    TF(‘ne’) = 0/9 = 0\n",
    "    TF(‘possède’) = 1/9 = 0.11\n",
    "    TF(‘un’) = 1/9 = 0.11\n",
    "    TF(‘pas’) = 0/9 = 0\n",
    "    TF(‘de’) = 1/9 = 0.11\n",
    "    TF(‘noyau’) = 1/ = 0.11\n",
    "    TF(‘et’) = 1/9 = 0.11\n",
    "    TF(‘des’) = 1/9 = 0.11\n",
    "    TF(‘mitochondries’) = 1/9 = 0.11"
   ]
  },
  {
   "cell_type": "markdown",
   "metadata": {},
   "source": [
    "### Inverse Document Frequency (IDF)"
   ]
  },
  {
   "cell_type": "markdown",
   "metadata": {},
   "source": [
    "IDF(mot) = Log(Nb. de textes du corpus / nombre de textes ou le mot apparait) > Donc on calcule un TF par mot pour tout le corpus\n",
    "\n",
    "Pour notre exemple:\n",
    "\n",
    "    IDF(‘la’) = log(2/2) = 0\n",
    "    IDF(‘cellule’) = log(2/2) = 0\n",
    "    IDF(‘Procaryote’) = log(2/1) = 0.3\n",
    "    IDF(‘Eucaryote’) = log(2/1) = 0.3\n",
    "    IDF(‘ne’) = log(2/1) = 0.3\n",
    "    IDF(‘possède’) = log(2/2) = 0\n",
    "    IDF(‘un’) = log(2/1) = 0.3\n",
    "    IDF(‘pas’) = log(2/1) = 0.3\n",
    "    IDF(‘de’) = log(2/2) = 0\n",
    "    IDF(‘noyau’) = log(2/2) = 0\n",
    "    IDF(‘et’) = log(2/2) = 0\n",
    "    IDF(‘des’) = log(2/2) = 0\n",
    "    IDF(‘mitochondries’) = log(2/2) = 0"
   ]
  },
  {
   "cell_type": "markdown",
   "metadata": {},
   "source": [
    "### TF-IDF"
   ]
  },
  {
   "cell_type": "markdown",
   "metadata": {},
   "source": [
    "Pour T1:\n",
    "\n",
    "    TF-IDF(‘la’) = 0.09 x 0 = 0\n",
    "    TF-IDF(‘cellule’) = 0.09 x 0 = 0\n",
    "    TF-IDF(‘Procaryote’) = 0.09 x 0.3 = 0.027\n",
    "    TF-IDF(‘Eucaryote’) = 0 x 0.3 = 0\n",
    "    TF-IDF(‘ne’) = 0.09 x 0.3 = 0.027\n",
    "    TF-IDF(‘possède’) = 0.18 x 0 = 0\n",
    "    TF-IDF(‘un’) = 0 x 0.3 = 0\n",
    "    TF-IDF(‘pas’) = 0.09 x 0.3 = 0.027\n",
    "    TF-IDF(‘de’) = 0.09 x 0 = 0\n",
    "    TF-IDF(‘noyau’) = 0.09 x 0 = 0\n",
    "    TF-IDF(‘et’) = 0.09 x 0 = 0\n",
    "    TF-IDF(‘des’) = 0 x 0 = 0\n",
    "    TF-IDF(‘mitochondries’) = 0.09 x 0 = 0\n",
    "    \n",
    "Pour T2:\n",
    "\n",
    "    TF-IDF(‘la’) = 0.11 x 0 = 0\n",
    "    TF-IDF(‘cellule’) = 0.11 x 0 = 0\n",
    "    TF-IDF(‘Procaryote’) = 0 x 0.3 = 0\n",
    "    TF-IDF(‘Eucaryote’) = 0.11 x 0.3 = 0.033\n",
    "    TF-IDF(‘ne’) = 0 x 0.3 = 0\n",
    "    TF-IDF(‘possède’) = 0.11 x 0 = 0\n",
    "    TF-IDF(‘un’) = 0.11 x 0 = 0\n",
    "    TF-IDF(‘pas’) = 0 x 0.3 = 0\n",
    "    TF-IDF(‘de’) = 0.11 x 0 = 0\n",
    "    TF-IDF(‘noyau’) = 0.11 x 0 = 0\n",
    "    TF-IDF(‘et’) = 0.11 x 0 = 0\n",
    "    TF-IDF(‘des’) = 0.11 x 0 = 0\n",
    "    TF-IDF(‘mitochondries’) = 0.11 x 0 = 0\n"
   ]
  },
  {
   "cell_type": "markdown",
   "metadata": {},
   "source": [
    "***"
   ]
  },
  {
   "cell_type": "code",
   "execution_count": null,
   "metadata": {},
   "outputs": [],
   "source": [
    "corpus = [\"la cellule Procaryote ne possède pas de noyau et possède des mitochondries\",\n",
    "          \"la cellule Eucaryote possède un noyau et des mitochondries\"]\n",
    "\n",
    "from sklearn.feature_extraction.text import TfidfVectorizer\n",
    "cv = TfidfVectorizer()\n",
    "# cv = TfidfVectorizer(max_df=0.5, min_df=2)\n",
    "tfidf_vectors = cv.fit_transform(corpus)"
   ]
  },
  {
   "cell_type": "code",
   "execution_count": null,
   "metadata": {},
   "outputs": [],
   "source": [
    "cv.vocabulary_\n",
    "\n",
    "{k: v for k, v in sorted(cv.vocabulary_.items(), key=lambda item: item[1])}"
   ]
  },
  {
   "cell_type": "code",
   "execution_count": null,
   "metadata": {},
   "outputs": [],
   "source": [
    "tfidf_vectors.shape"
   ]
  },
  {
   "cell_type": "code",
   "execution_count": null,
   "metadata": {},
   "outputs": [],
   "source": [
    "print(tfidf_vectors[0])"
   ]
  },
  {
   "cell_type": "code",
   "execution_count": null,
   "metadata": {},
   "outputs": [],
   "source": [
    "print(tfidf_vectors[1])"
   ]
  },
  {
   "cell_type": "markdown",
   "metadata": {},
   "source": [
    "***"
   ]
  },
  {
   "cell_type": "code",
   "execution_count": null,
   "metadata": {},
   "outputs": [],
   "source": [
    "corpus = med_dos['dossier_clean_stopword_stemm']\n",
    "\n",
    "from sklearn.feature_extraction.text import TfidfVectorizer\n",
    "cv = TfidfVectorizer()\n",
    "# cv = TfidfVectorizer(max_df=0.5, min_df=1)\n",
    "tfidf_vectors = cv.fit_transform(corpus)"
   ]
  },
  {
   "cell_type": "code",
   "execution_count": null,
   "metadata": {},
   "outputs": [],
   "source": [
    "cv.vocabulary_"
   ]
  },
  {
   "cell_type": "code",
   "execution_count": null,
   "metadata": {},
   "outputs": [],
   "source": [
    "len(cv.vocabulary_)"
   ]
  },
  {
   "cell_type": "code",
   "execution_count": null,
   "metadata": {},
   "outputs": [],
   "source": [
    "tfidf_vectors.shape"
   ]
  },
  {
   "cell_type": "code",
   "execution_count": null,
   "metadata": {},
   "outputs": [],
   "source": [
    "print(tfidf_vectors[0])"
   ]
  },
  {
   "cell_type": "markdown",
   "metadata": {},
   "source": [
    "Cette approche possède 2 limites majeures :\n",
    "<br>\n",
    "\n",
    "- ne tient pas compte de l’ordre des mots dans le document et surtout du sens sémantique des mots (utiliser des n-grams est un quick fix qui peut atteindre ses limites rapidement)"
   ]
  },
  {
   "cell_type": "markdown",
   "metadata": {},
   "source": [
    "***"
   ]
  },
  {
   "cell_type": "markdown",
   "metadata": {},
   "source": [
    "## 2.4. Approche \"Fixed Word embedding\""
   ]
  },
  {
   "cell_type": "markdown",
   "metadata": {},
   "source": [
    "Le word embedding est une méthode d'apprentissage d'une représentation vectorielle des mots. \n",
    "\n",
    "Cette technique permet de représenter chaque mot par un vecteur dense de nombres réels. \n",
    "\n",
    "Avec cette représentation, les mots apparaissant dans des contextes similaires possèdent des vecteurs correspondants qui sont relativement proches. Par exemple, les synonymes sont représentés par des vecteurs relativement peu distants dans l'espace vectoriel où sont définis ces vecteurs. \n",
    "\n",
    "Cette technique est basée sur l'hypothèse de Harris qui veut que les mots apparaissant dans des contextes similaires aient des significations apparentées. \n",
    "\n",
    "C’est un algorithme qui va apprendre cette représentation soit de manière non supervisée (ex : Word2vec, Glove) soit directement dans le réseau de neurones utilisé pour une tâche X d’apprentissage.\n",
    "\n",
    "La technique des word embeddings diminue la dimension de la représentation des mots en comparaison d'un modèle Tf-Idf par exemple, facilitant ainsi les tâches d'apprentissage impliquant ces mots, puisque moins soumis au fléau de la dimension (curse of dimensionality en anglais).\n",
    "\n"
   ]
  },
  {
   "cell_type": "markdown",
   "metadata": {},
   "source": [
    "***"
   ]
  },
  {
   "cell_type": "markdown",
   "metadata": {},
   "source": [
    "### Word2Vec"
   ]
  },
  {
   "attachments": {
    "DST_Part2_1.png": {
     "image/png": "[encoded data removed]"
    }
   },
   "cell_type": "markdown",
   "metadata": {},
   "source": [
    "![DST_Part2_1.png](attachment:DST_Part2_1.png)"
   ]
  },
  {
   "cell_type": "markdown",
   "metadata": {},
   "source": [
    "Cet algorithme de word embedding est parmi les plus connus. Il a été développé par une équipe de recherche de Google sous la direction de Tomas Mikolov. Il repose sur des réseaux de neurones à deux couches et cherche à apprendre les représentations vectorielles des mots composant un texte, de telle sorte que les mots qui partagent des contextes similaires soient représentés par des vecteurs numériques proches.\n",
    "\n",
    "Word2Vec possède deux architectures neuronales, appelées CBOW et Skip-Gram, parmis lesquelles l’utilisateur peut choisir:\n",
    "\n",
    "- CBOW (Continuous Bag-of-WORD) reçoit en entrée le contexte d’un mot, c’est à dire les termes qui l’entourent dans une phrase, et essaye de prédire le mot en question. \n",
    "\n",
    "\n",
    "- Skip-Gram fait exactement le contraire : elle prend en entrée un mot et essaye de prédire son contexte.\n",
    "\n",
    "Dans les deux cas, l’entraînement du réseau se fait en parcourant le texte fourni et en modifiant les poids neuronaux afin de réduire l’erreur de prédiction de l’algorithme.\n",
    "\n",
    "Word2Vec possède différents paramètres, dont les plus importants sont :\n",
    "\n",
    "- La dimensionnalité de l’espace vectoriel à construire, c’est à dire le nombre de descripteurs numériques utilisés pour décrire les mots (entre 100 et 1000 en général).\n",
    "\n",
    "- La taille du contexte d’un mot, c’est à dire le nombre de termes entourant le mot en question (les auteurs suggèrent d’utiliser des contextes de taille 10 avec l’architecture Skip-Gram et 5 avec l’architecture CBOW).\n",
    "\n",
    "Étant donné que Word2Vec n’est composé que de deux couches, cet algorithme est rapide à entraîner et à exécuter, ce qui se révèle être un avantage important par rapport à d’autre méthodes de word embedding.\n"
   ]
  },
  {
   "cell_type": "markdown",
   "metadata": {},
   "source": [
    "***"
   ]
  },
  {
   "cell_type": "code",
   "execution_count": null,
   "metadata": {},
   "outputs": [],
   "source": [
    "import multiprocessing\n",
    "from gensim.models import Word2Vec\n",
    "from gensim.models.phrases import Phrases, Phraser\n",
    "\n",
    "txt = list(med_dos['dossier_clean_stopword_lemm'])\n",
    "df = pd.DataFrame({'texte': txt})\n",
    "\n",
    "sent = [row.split() for row in df['texte']]\n",
    "\n",
    "cores = multiprocessing.cpu_count() # Count the number of cores in a computer\n",
    "cores"
   ]
  },
  {
   "cell_type": "code",
   "execution_count": null,
   "metadata": {},
   "outputs": [],
   "source": [
    "w2v_model = Word2Vec(min_count=10,\n",
    "                     window=2,\n",
    "                     size=300,\n",
    "                     sample=6e-5, \n",
    "                     alpha=0.03, \n",
    "                     min_alpha=0.0007, \n",
    "                     negative=20,\n",
    "                     workers=cores-1)"
   ]
  },
  {
   "cell_type": "code",
   "execution_count": null,
   "metadata": {},
   "outputs": [],
   "source": [
    "w2v_model.build_vocab(sent, progress_per=10000)"
   ]
  },
  {
   "cell_type": "code",
   "execution_count": null,
   "metadata": {},
   "outputs": [],
   "source": [
    "w2v_model.wv.vocab"
   ]
  },
  {
   "cell_type": "code",
   "execution_count": null,
   "metadata": {},
   "outputs": [],
   "source": [
    "w2v_model.train(sent, total_examples=w2v_model.corpus_count, epochs=30, report_delay=1)"
   ]
  },
  {
   "cell_type": "code",
   "execution_count": null,
   "metadata": {},
   "outputs": [],
   "source": [
    "w2v_model.wv.most_similar(positive=[\"ganglion\"])"
   ]
  },
  {
   "cell_type": "markdown",
   "metadata": {},
   "source": [
    "***"
   ]
  },
  {
   "cell_type": "markdown",
   "metadata": {},
   "source": [
    "### Doc2Vec"
   ]
  },
  {
   "cell_type": "markdown",
   "metadata": {},
   "source": [
    "Doc2Vec est une adaptation de Word2Vec pour faire de l'embbeding de paragraphes / textes"
   ]
  },
  {
   "cell_type": "code",
   "execution_count": null,
   "metadata": {},
   "outputs": [],
   "source": [
    "from gensim.models.doc2vec import TaggedDocument, Doc2Vec\n",
    "from sklearn.base import BaseEstimator\n",
    "from sklearn import utils as skl_utils\n",
    "from tqdm import tqdm\n",
    "\n",
    "import multiprocessing\n",
    "import numpy as np\n",
    "\n",
    "class Doc2VecTransformer(BaseEstimator):\n",
    "\n",
    "    def __init__(self, vector_size=200, learning_rate=0.02, epochs=20):\n",
    "        self.learning_rate = learning_rate\n",
    "        self.epochs = epochs\n",
    "        self._model = None\n",
    "        self.vector_size = vector_size\n",
    "        self.workers = multiprocessing.cpu_count() - 1\n",
    "\n",
    "    def fit(self, df_x, df_y=None):\n",
    "        tagged_x = [TaggedDocument(clean_text(row).split(), [index]) for index, row in enumerate(df_x)]\n",
    "        model = Doc2Vec(documents=tagged_x, vector_size=self.vector_size, workers=self.workers)\n",
    "\n",
    "        for epoch in range(self.epochs):\n",
    "            model.train(skl_utils.shuffle([x for x in tqdm(tagged_x)]), total_examples=len(tagged_x), epochs=1)\n",
    "            model.alpha -= self.learning_rate\n",
    "            model.min_alpha = model.alpha\n",
    "\n",
    "        self._model = model\n",
    "        return self\n",
    "\n",
    "    def transform(self, df_x):\n",
    "        return np.asmatrix(np.array([self._model.infer_vector(clean_text(row).split())\n",
    "                                     for index, row in enumerate(df_x)]))\n"
   ]
  },
  {
   "cell_type": "code",
   "execution_count": null,
   "metadata": {},
   "outputs": [],
   "source": [
    "%%capture\n",
    "\n",
    "doc2vec_trf = Doc2VecTransformer()\n",
    "doc2vec_features = doc2vec_trf.fit(txt).transform(txt)"
   ]
  },
  {
   "cell_type": "code",
   "execution_count": null,
   "metadata": {},
   "outputs": [],
   "source": [
    "len(doc2vec_features)"
   ]
  },
  {
   "cell_type": "code",
   "execution_count": null,
   "metadata": {},
   "outputs": [],
   "source": [
    "doc2vec_features[0]"
   ]
  },
  {
   "cell_type": "markdown",
   "metadata": {},
   "source": [
    "### FastText"
   ]
  },
  {
   "cell_type": "markdown",
   "metadata": {},
   "source": [
    "FastText est une bibliothèque de classification et de représentation de texte dévellopé par Facebook IA. Il transforme le texte en vecteurs continus qui peuvent être utilisés ultérieurement sur n'importe quelle tâche liée au NLP.\n",
    "\n",
    "FastText distribue des vecteurs de mots pré-entraînés pour 157 langues, Entrainés sur du Crawl et Wikipedia. Ces modèles ont été entraînés en utilisant CBOW avec des poids de position, en dimension 300, avec des n-grams de longueur 5, une fenêtre de taille 5 et 10 négatifs."
   ]
  },
  {
   "cell_type": "markdown",
   "metadata": {},
   "source": [
    "Télécharger le modèle français : https://dl.fbaipublicfiles.com/fasttext/vectors-crawl/cc.fr.300.bin.gz"
   ]
  },
  {
   "cell_type": "code",
   "execution_count": null,
   "metadata": {},
   "outputs": [],
   "source": [
    "import fasttext\n",
    "import fasttext.util\n",
    "\n",
    "ft = fasttext.load_model('C:/Users/thoma/Documents/NLP_ESME/Fasttext/cc.fr.300.bin')\n",
    "ft.get_dimension()"
   ]
  },
  {
   "cell_type": "markdown",
   "metadata": {},
   "source": [
    "ou"
   ]
  },
  {
   "cell_type": "code",
   "execution_count": null,
   "metadata": {},
   "outputs": [],
   "source": [
    "import fasttext.util\n",
    "import fasttext\n",
    "fasttext.util.download_model('fr', if_exists='ignore')\n",
    "ft = fasttext.load_model('cc.fr.300.bin')\n",
    "ft.get_dimension()"
   ]
  },
  {
   "cell_type": "code",
   "execution_count": null,
   "metadata": {},
   "outputs": [],
   "source": [
    "fasttext.util.reduce_model(ft, 100)\n",
    "ft.get_dimension()"
   ]
  },
  {
   "cell_type": "code",
   "execution_count": null,
   "metadata": {},
   "outputs": [],
   "source": [
    "ft.get_word_vector('cellule').shape"
   ]
  },
  {
   "cell_type": "code",
   "execution_count": null,
   "metadata": {},
   "outputs": [],
   "source": [
    "ft.get_nearest_neighbors('procaryote')"
   ]
  },
  {
   "cell_type": "code",
   "execution_count": null,
   "metadata": {},
   "outputs": [],
   "source": [
    "help(ft)"
   ]
  },
  {
   "cell_type": "code",
   "execution_count": null,
   "metadata": {},
   "outputs": [],
   "source": [
    "corpus = [\"la cellule Procaryote ne possède pas de noyau et possède des mitochondries\",\n",
    "          \"la cellule Eucaryote possède un noyau et des mitochondries\"]\n",
    "\n",
    "vect = [ft.get_sentence_vector(text) for text in corpus]"
   ]
  },
  {
   "cell_type": "code",
   "execution_count": null,
   "metadata": {},
   "outputs": [],
   "source": [
    "vect"
   ]
  },
  {
   "cell_type": "code",
   "execution_count": null,
   "metadata": {},
   "outputs": [],
   "source": [
    "vect = [ft.get_sentence_vector(text) for text in med_dos.dossier_clean_stopword_lemm]"
   ]
  },
  {
   "cell_type": "code",
   "execution_count": null,
   "metadata": {},
   "outputs": [],
   "source": [
    "vect"
   ]
  },
  {
   "cell_type": "markdown",
   "metadata": {},
   "source": [
    "### Modèles BERT"
   ]
  },
  {
   "cell_type": "markdown",
   "metadata": {},
   "source": [
    "Bidirectional Encoder Representations from Transformers"
   ]
  },
  {
   "cell_type": "code",
   "execution_count": null,
   "metadata": {},
   "outputs": [],
   "source": [
    "import torch\n",
    "camembert = torch.hub.load('pytorch/fairseq', 'camembert')\n",
    "camembert.eval()  # disable dropout (or leave in train mode to finetune)"
   ]
  },
  {
   "cell_type": "code",
   "execution_count": null,
   "metadata": {},
   "outputs": [],
   "source": [
    "masked_line = 'Le <mask> est trop mignon'\n",
    "camembert.fill_mask(masked_line, topk=3)"
   ]
  },
  {
   "cell_type": "code",
   "execution_count": null,
   "metadata": {},
   "outputs": [],
   "source": [
    "masked_line = \"Le <mask> de la cellule contient l'ADN\"\n",
    "camembert.fill_mask(masked_line, topk=3)"
   ]
  },
  {
   "cell_type": "markdown",
   "metadata": {},
   "source": [
    "## 2.5. Approche \"Topic Modeling\""
   ]
  },
  {
   "cell_type": "markdown",
   "metadata": {},
   "source": [
    "<b>Latent Semantic Analysis (LSA)</b> : À travers son formalisme vectoriel, le LSA permet d'établir des relations entre un ensemble de documents et les termes qu'ils contiennent. Il va construire des “concepts”, aussi appelés “topics”, liés aux documents et aux termes, de sorte qu’un document pourra être représenté par un vecteur de dimension finie dont chaque coordonnée sera associée à un concept (un “concept” étant une combinaison linéaire de mots apparaissant dans le même contexte).\n",
    "\n",
    "\n",
    "<b>Latent Dirichlet Allocation (LDA)</b> : modèle probabiliste génératif qui permet de découvrir des structures thématiques cachées dans des vastes archives de documents, via des techniques d’inférence basées sur la statistique Bayésienne. Ce modèle produit le même type de représentation que LSA, seule la façon de construire les concepts est différente (probabiliste plutôt qu’algébrique).\n"
   ]
  }
 ],
 "metadata": {
  "kernelspec": {
   "display_name": "Python 3",
   "language": "python",
   "name": "python3"
  },
  "language_info": {
   "codemirror_mode": {
    "name": "ipython",
    "version": 3
   },
   "file_extension": ".py",
   "mimetype": "text/x-python",
   "name": "python",
   "nbconvert_exporter": "python",
   "pygments_lexer": "ipython3",
   "version": "3.7.6"
  }
 },
 "nbformat": 4,
 "nbformat_minor": 4
}
